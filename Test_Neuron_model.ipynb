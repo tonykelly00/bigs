{
  "nbformat": 4,
  "nbformat_minor": 0,
  "metadata": {
    "colab": {
      "name": "Test_Neuron_model.ipynb",
      "provenance": [],
      "collapsed_sections": [],
      "toc_visible": true,
      "authorship_tag": "ABX9TyMrBQKQxKHPzjkZJ4KiybS4",
      "include_colab_link": true
    },
    "kernelspec": {
      "name": "python3",
      "display_name": "Python 3"
    }
  },
  "cells": [
    {
      "cell_type": "markdown",
      "metadata": {
        "id": "view-in-github",
        "colab_type": "text"
      },
      "source": [
        "<a href=\"https://colab.research.google.com/github/tonykelly00/bigs/blob/main/Test_Neuron_model.ipynb\" target=\"_parent\"><img src=\"https://colab.research.google.com/assets/colab-badge.svg\" alt=\"Open In Colab\"/></a>"
      ]
    },
    {
      "cell_type": "markdown",
      "metadata": {
        "id": "zJpFN6Ueno5K"
      },
      "source": [
        "\n",
        "\n",
        "```\n",
        "# This is formatted as code\n",
        "```\n",
        "\n",
        "# **CC and VC Model**\n",
        "\n",
        "Tony Kelly\n",
        "\n",
        "The goal of this practical course is to use experimental and computational approaches to reinforce and expand upon some of the concepts taught in the ‘Intracellular Electrophysiology Recordings’ lecture by making the theoretical concepts tangible and interactive – & maybe fun.\n",
        "\n",
        "### Computational Model\n",
        "First we need to install NEURON and we will use the package installer for Python (pip). There needs to be a localy installed version of Neuron. This can take some time if NEURON is not yet installed on your side. \n",
        "\n",
        "[test this on a system without Neuron.]"
      ]
    },
    {
      "cell_type": "code",
      "metadata": {
        "id": "32gPbo6AosrY",
        "colab": {
          "base_uri": "https://localhost:8080/"
        },
        "outputId": "894919bb-3a5e-47d8-e56d-02602be78d27"
      },
      "source": [
        "!pip install neuron"
      ],
      "execution_count": 1,
      "outputs": [
        {
          "output_type": "stream",
          "text": [
            "Collecting neuron\n",
            "  Downloading NEURON-8.0.0-cp37-cp37m-manylinux1_x86_64.whl (12.6 MB)\n",
            "\u001b[K     |████████████████████████████████| 12.6 MB 202 kB/s \n",
            "\u001b[?25hRequirement already satisfied: numpy>=1.9.3 in /usr/local/lib/python3.7/dist-packages (from neuron) (1.19.5)\n",
            "Installing collected packages: neuron\n",
            "Successfully installed neuron-8.0.0\n"
          ],
          "name": "stdout"
        }
      ]
    },
    {
      "cell_type": "markdown",
      "metadata": {
        "id": "RQCiz7SYDy2a"
      },
      "source": [
        "We also need to load some basic scripts to make the work-flow more convienent."
      ]
    },
    {
      "cell_type": "markdown",
      "metadata": {
        "id": "YPv-wGgNHQCx"
      },
      "source": [
        "This way adds scrips from my github repo.\n",
        "could also try adding via link to local copy???"
      ]
    },
    {
      "cell_type": "code",
      "metadata": {
        "id": "eS6FHaam_gKy",
        "colab": {
          "base_uri": "https://localhost:8080/"
        },
        "outputId": "8fc286bd-9d6b-454f-9fe7-453566b8b850"
      },
      "source": [
        "# Clone the entire repo.\n",
        "!git clone -l -s git://github.com/tonykelly00/bigs.git cloned-repo\n",
        "%cd cloned-repo\n",
        "!ls\n",
        "\n",
        "!python BIGS_ephys.py\n",
        "from neuron import h, gui\n",
        "import matplotlib.pyplot as plt\n",
        "import numpy as np\n",
        "\n",
        "from BIGS_ephys import mk_soma\n",
        "from BIGS_ephys import run\n",
        "from BIGS_ephys import attach_IC\n",
        "from BIGS_ephys import attach_dend\n",
        "from BIGS_ephys import attach_VC"
      ],
      "execution_count": 2,
      "outputs": [
        {
          "output_type": "stream",
          "text": [
            "Cloning into 'cloned-repo'...\n",
            "warning: --local is ignored\n",
            "remote: Enumerating objects: 12, done.\u001b[K\n",
            "remote: Counting objects: 100% (12/12), done.\u001b[K\n",
            "remote: Compressing objects: 100% (10/10), done.\u001b[K\n",
            "remote: Total 12 (delta 2), reused 0 (delta 0), pack-reused 0\u001b[K\n",
            "Receiving objects: 100% (12/12), 4.90 KiB | 4.90 MiB/s, done.\n",
            "Resolving deltas: 100% (2/2), done.\n",
            "/content/cloned-repo\n",
            "BIGS_ephys.py  README.md\n",
            "Warning: no DISPLAY environment variable.\n",
            "--No graphics will be displayed.\n"
          ],
          "name": "stdout"
        }
      ]
    },
    {
      "cell_type": "markdown",
      "metadata": {
        "id": "DkN5Dd0KJiXX"
      },
      "source": [
        "create a cell and run"
      ]
    },
    {
      "cell_type": "code",
      "metadata": {
        "id": "mzIFwn-xHANR",
        "colab": {
          "base_uri": "https://localhost:8080/",
          "height": 332
        },
        "outputId": "dc6efc8d-bc1f-43e9-d04d-e73aa623d87e"
      },
      "source": [
        "soma = mk_soma(20,20)\n",
        "run(soma)"
      ],
      "execution_count": null,
      "outputs": [
        {
          "output_type": "stream",
          "text": [
            "20.0\n",
            "Done Running\n"
          ],
          "name": "stdout"
        },
        {
          "output_type": "display_data",
          "data": {
            "image/png": "[encoded data removed]",
            "text/plain": [
              "<Figure size 432x288 with 1 Axes>"
            ]
          },
          "metadata": {
            "needs_background": "light"
          }
        },
        {
          "output_type": "execute_result",
          "data": {
            "text/plain": [
              "(Vector[115], Vector[114])"
            ]
          },
          "metadata": {},
          "execution_count": 67
        }
      ]
    },
    {
      "cell_type": "markdown",
      "metadata": {
        "id": "LSxmvd_ftc0d"
      },
      "source": [
        "###Current-Clamp\n",
        "\n",
        "Aim: To create a ball and stick model to determine our key parameters and examine their effect in current-clamp recordings\n",
        "\n",
        "**Rin**\n",
        "\n",
        "In a current-clamp experiment how do you measure the cells input resistance (Rin)?\n",
        "\n",
        "Discuss before reading on...\n",
        "\n",
        "\n",
        "attach a current injecting pipette at the soma\n"
      ]
    },
    {
      "cell_type": "code",
      "metadata": {
        "colab": {
          "base_uri": "https://localhost:8080/",
          "height": 332
        },
        "id": "sWRVoE-Wt30-",
        "outputId": "98f2619c-1d8e-4bdb-a691-7d05cb07a2dc"
      },
      "source": [
        "     ic = attach_IC(soma) \n",
        "     run(soma)"
      ],
      "execution_count": null,
      "outputs": [
        {
          "output_type": "stream",
          "text": [
            "20.0\n",
            "Done Running\n"
          ],
          "name": "stdout"
        },
        {
          "output_type": "display_data",
          "data": {
            "image/png": "[encoded data removed]",
            "text/plain": [
              "<Figure size 432x288 with 1 Axes>"
            ]
          },
          "metadata": {
            "needs_background": "light"
          }
        },
        {
          "output_type": "execute_result",
          "data": {
            "text/plain": [
              "(Vector[40], Vector[39])"
            ]
          },
          "metadata": {},
          "execution_count": 34
        }
      ]
    },
    {
      "cell_type": "markdown",
      "metadata": {
        "id": "80RbynROveFV"
      },
      "source": [
        "Given that ic.amp is -0.01 nA. What is the Rin of the cell?\n",
        "\n",
        "And how does this relate to the passive conductance soma(0.50).pas.g (S.cm2 or 1/g = 5000 ohms.cm2)"
      ]
    },
    {
      "cell_type": "code",
      "metadata": {
        "colab": {
          "base_uri": "https://localhost:8080/"
        },
        "id": "P6EGTq58uXYk",
        "outputId": "8415db11-2fb8-46af-ee19-5793d8d7e380"
      },
      "source": [
        "ic.amp, soma(0.5).pas.g, "
      ],
      "execution_count": null,
      "outputs": [
        {
          "output_type": "execute_result",
          "data": {
            "text/plain": [
              "(-0.01, 0.0002)"
            ]
          },
          "metadata": {},
          "execution_count": 63
        }
      ]
    },
    {
      "cell_type": "markdown",
      "metadata": {
        "id": "YDeklL-o0t6x"
      },
      "source": [
        "What happens if you change the leak conductance?; soma(0.5).pas.g"
      ]
    },
    {
      "cell_type": "code",
      "metadata": {
        "colab": {
          "base_uri": "https://localhost:8080/",
          "height": 332
        },
        "id": "ETca95Dv0tUz",
        "outputId": "108539c2-1405-4362-8680-aee478779306"
      },
      "source": [
        "soma(0.5).pas.g = 0.0002\n",
        "run(soma)"
      ],
      "execution_count": null,
      "outputs": [
        {
          "output_type": "stream",
          "text": [
            "20.0\n",
            "Done Running\n"
          ],
          "name": "stdout"
        },
        {
          "output_type": "display_data",
          "data": {
            "image/png": "[encoded data removed]",
            "text/plain": [
              "<Figure size 432x288 with 1 Axes>"
            ]
          },
          "metadata": {
            "needs_background": "light"
          }
        },
        {
          "output_type": "execute_result",
          "data": {
            "text/plain": [
              "(Vector[49], Vector[48])"
            ]
          },
          "metadata": {},
          "execution_count": 42
        }
      ]
    },
    {
      "cell_type": "markdown",
      "metadata": {
        "id": "i6s5kUc1rqt8"
      },
      "source": [
        "For discussion of converting specific membrane resitance (Rm)) to Rin see https://www.neuron.yale.edu/phpBB/viewtopic.php?f=8&t=2822\n",
        "      \n",
        "        Rm = Rin [*106 (scaling for  mega)] * surface area [*10-8 (scaling for um2 to cm2)] \n",
        "         = Rm / surface area [4*pie*R^2] [*10-8 (scaling for um2 to cm2)"
      ]
    },
    {
      "cell_type": "code",
      "metadata": {
        "colab": {
          "base_uri": "https://localhost:8080/"
        },
        "id": "yI5W0hl6zTYj",
        "outputId": "b72f5207-111c-4da4-bed9-5e2802bde7d8"
      },
      "source": [
        "(1/soma(0.5).pas.g)/(4*3.14*10**2) * (1e2)"
      ],
      "execution_count": null,
      "outputs": [
        {
          "output_type": "execute_result",
          "data": {
            "text/plain": [
              "398.0891719745223"
            ]
          },
          "metadata": {},
          "execution_count": 68
        }
      ]
    },
    {
      "cell_type": "markdown",
      "metadata": {
        "id": "S8s-Z5p3lEPl"
      },
      "source": [
        "**Tau**\n",
        "\n",
        "In current-clamp experiments what is the membrane time constant and how do you measure it?\n",
        "What membrane properties determine tau?\n",
        "\n"
      ]
    },
    {
      "cell_type": "code",
      "metadata": {
        "colab": {
          "base_uri": "https://localhost:8080/",
          "height": 332
        },
        "id": "U1Fp-XJZmTsF",
        "outputId": "7935131d-3b72-4a9f-b856-47bb5576eeca"
      },
      "source": [
        "soma = mk_soma(20,20)\n",
        "ic = attach_IC(soma)\n",
        "ic.amp=-0.025 \n",
        "run(soma)"
      ],
      "execution_count": null,
      "outputs": [
        {
          "output_type": "stream",
          "text": [
            "20.0\n",
            "Done Running\n"
          ],
          "name": "stdout"
        },
        {
          "output_type": "display_data",
          "data": {
            "image/png": "[encoded data removed]",
            "text/plain": [
              "<Figure size 432x288 with 1 Axes>"
            ]
          },
          "metadata": {
            "needs_background": "light"
          }
        },
        {
          "output_type": "execute_result",
          "data": {
            "text/plain": [
              "(Vector[6], Vector[5])"
            ]
          },
          "metadata": {},
          "execution_count": 8
        }
      ]
    },
    {
      "cell_type": "markdown",
      "metadata": {
        "id": "40H_jWULoZkD"
      },
      "source": [
        "Membrane time constant Tau is estimated as time voltage changes to 66% of it's final value => 5ms\n",
        "\n",
        "Or in the model calculated from \n",
        "\n",
        "\t\tcell area [h.area(0.5)=1256um^2} time 1uF/cm^2\t=> 1256 (1e-8) * 1 (1e-6) = 12.56pF\n",
        "\n",
        "\t\t400mOhms * .012 nF = 4.8ms"
      ]
    },
    {
      "cell_type": "code",
      "metadata": {
        "colab": {
          "base_uri": "https://localhost:8080/"
        },
        "id": "WDYSalNxpBAk",
        "outputId": "cad1e0e2-ac5c-4a04-bc03-dc4943a90db0"
      },
      "source": [
        "h.area(0.5) * (1e-8)  * 1 * (1e-6) * 400 * (1e3)"
      ],
      "execution_count": null,
      "outputs": [
        {
          "output_type": "execute_result",
          "data": {
            "text/plain": [
              "1.2566370614359172e-07"
            ]
          },
          "metadata": {},
          "execution_count": 55
        }
      ]
    },
    {
      "cell_type": "markdown",
      "metadata": {
        "id": "CpGlNUQQsbTl"
      },
      "source": [
        "**Dendrites**\n",
        "\n",
        "Attach a dendrite: \n"
      ]
    },
    {
      "cell_type": "code",
      "metadata": {
        "colab": {
          "base_uri": "https://localhost:8080/",
          "height": 630
        },
        "id": "YrS6luoMsm4k",
        "outputId": "1994cb5d-3ca1-4c69-e4d7-d0b0ff62170f"
      },
      "source": [
        "run(soma)\n",
        "dend = attach_dend(soma, 200, 1)\n",
        "run(soma)"
      ],
      "execution_count": null,
      "outputs": [
        {
          "output_type": "stream",
          "text": [
            "20.0\n",
            "Done Running\n"
          ],
          "name": "stdout"
        },
        {
          "output_type": "display_data",
          "data": {
            "image/png": "[encoded data removed]",
            "text/plain": [
              "<Figure size 432x288 with 1 Axes>"
            ]
          },
          "metadata": {
            "needs_background": "light"
          }
        },
        {
          "output_type": "stream",
          "text": [
            "20.0\n",
            "Done Running\n"
          ],
          "name": "stdout"
        },
        {
          "output_type": "display_data",
          "data": {
            "image/png": "[encoded data removed]",
            "text/plain": [
              "<Figure size 432x288 with 1 Axes>"
            ]
          },
          "metadata": {
            "needs_background": "light"
          }
        },
        {
          "output_type": "execute_result",
          "data": {
            "text/plain": [
              "(Vector[54], Vector[53])"
            ]
          },
          "metadata": {},
          "execution_count": 43
        }
      ]
    },
    {
      "cell_type": "markdown",
      "metadata": {
        "id": "zxV8iYLN0z7r"
      },
      "source": [
        "The Rin is lower with the dendrite but the taus are similar. If Rin decreases shouldn't tau also decrease.\n",
        "Try with the original soma decreasing the Rin (increasing the passive conductance)"
      ]
    },
    {
      "cell_type": "code",
      "metadata": {
        "colab": {
          "base_uri": "https://localhost:8080/",
          "height": 332
        },
        "id": "HcDzGIyZtsKr",
        "outputId": "b58bcb29-0876-4a60-8c29-fc67c07817f4"
      },
      "source": [
        "soma = mk_soma(20,20)\n",
        "ic = attach_IC(soma)\n",
        "soma(0.5).pas.g = 0.0003\n",
        "run(soma)"
      ],
      "execution_count": null,
      "outputs": [
        {
          "output_type": "stream",
          "text": [
            "20.0\n",
            "Done Running\n"
          ],
          "name": "stdout"
        },
        {
          "output_type": "display_data",
          "data": {
            "image/png": "[encoded data removed]",
            "text/plain": [
              "<Figure size 432x288 with 1 Axes>"
            ]
          },
          "metadata": {
            "needs_background": "light"
          }
        },
        {
          "output_type": "execute_result",
          "data": {
            "text/plain": [
              "(Vector[56], Vector[55])"
            ]
          },
          "metadata": {},
          "execution_count": 44
        }
      ]
    },
    {
      "cell_type": "markdown",
      "metadata": {
        "id": "Q-zVQHCx9kA1"
      },
      "source": [
        "For simplicity try comparing different size somata "
      ]
    },
    {
      "cell_type": "code",
      "metadata": {
        "id": "p2RXGcd_9z5M"
      },
      "source": [
        "#enter your code here"
      ],
      "execution_count": null,
      "outputs": []
    },
    {
      "cell_type": "code",
      "metadata": {
        "id": "YMJ8xDmenzeW"
      },
      "source": [
        ""
      ],
      "execution_count": null,
      "outputs": []
    },
    {
      "cell_type": "markdown",
      "metadata": {
        "id": "uR1neuoH-Pl1"
      },
      "source": [
        "#Voltage-Clamp\n",
        "\n",
        "Aim: To create a ball and stick model to determine our key parameters and examine their effect on the voltage-clamp\n",
        "\n",
        "Create new soma and attach a single electrode voltage-clamp\n"
      ]
    },
    {
      "cell_type": "code",
      "metadata": {
        "colab": {
          "base_uri": "https://localhost:8080/",
          "height": 332
        },
        "id": "fH78iUD1-QKE",
        "outputId": "b04762ad-dd59-49de-80c1-0bc2034f7b89"
      },
      "source": [
        "soma = mk_soma(20,20)\n",
        "vc= attach_VC(soma, rs=100)\n",
        "run(soma)\n",
        "print(vc[0].amp1, vc[0].amp2, vc[0].amp3)"
      ],
      "execution_count": 5,
      "outputs": [
        {
          "output_type": "stream",
          "text": [
            "20.0\n",
            "Done Running\n"
          ],
          "name": "stdout"
        },
        {
          "output_type": "display_data",
          "data": {
            "image/png": "[encoded data removed]",
            "text/plain": [
              "<Figure size 432x288 with 1 Axes>"
            ]
          },
          "metadata": {
            "needs_background": "light"
          }
        },
        {
          "output_type": "stream",
          "text": [
            "-80.0 0.0 -80.0\n"
          ],
          "name": "stdout"
        }
      ]
    },
    {
      "cell_type": "markdown",
      "metadata": {
        "id": "6gFuYwlpoLuu"
      },
      "source": [
        "###Voltage Error\n",
        "\n",
        "Is there a voltage error, ie Is Vm clamped to Vcmd?"
      ]
    },
    {
      "cell_type": "code",
      "metadata": {
        "colab": {
          "base_uri": "https://localhost:8080/",
          "height": 584
        },
        "id": "W3z70IeKoN6N",
        "outputId": "2ca227a0-06d4-4f04-f369-f586121756f6"
      },
      "source": [
        "t_vec, v_vec = run(soma) #outputs time and somatic voltage so can plot \n",
        "plt.figure(figsize=(8,4)) # Default figsize is (8,6)\n",
        "plt.plot(t_vec, v_vec) #ms nA\n",
        "plt.axis([0, 50, -1, 1])"
      ],
      "execution_count": null,
      "outputs": [
        {
          "output_type": "stream",
          "text": [
            "20.0\n",
            "Done Running\n"
          ],
          "name": "stdout"
        },
        {
          "output_type": "display_data",
          "data": {
            "image/png": "[encoded data removed]",
            "text/plain": [
              "<Figure size 432x288 with 1 Axes>"
            ]
          },
          "metadata": {
            "needs_background": "light"
          }
        },
        {
          "output_type": "execute_result",
          "data": {
            "text/plain": [
              "(0.0, 50.0, -1.0, 1.0)"
            ]
          },
          "metadata": {},
          "execution_count": 36
        },
        {
          "output_type": "display_data",
          "data": {
            "image/png": "[encoded data removed]",
            "text/plain": [
              "<Figure size 576x288 with 1 Axes>"
            ]
          },
          "metadata": {
            "needs_background": "light"
          }
        }
      ]
    },
    {
      "cell_type": "markdown",
      "metadata": {
        "id": "j8JrX3eS4zJc"
      },
      "source": [
        "How is the membrane current related to the voltage error?\n",
        "\n",
        "plot the Im."
      ]
    },
    {
      "cell_type": "code",
      "metadata": {
        "id": "KtZqnDpG5Fby"
      },
      "source": [
        "t_vec, v_vec = run(soma) #outputs time and somatic voltage so can plot \n",
        "plt.figure(figsize=(8,4)) # Default figsize is (8,6)\n",
        "plt.plot(t_vec, vc[1]) #ms nA\n",
        "#you may need to change scale to see"
      ],
      "execution_count": null,
      "outputs": []
    },
    {
      "cell_type": "markdown",
      "metadata": {
        "id": "TwcQsDk_6P3E"
      },
      "source": [
        "###Rs\n",
        "what is the access or series resistance?"
      ]
    },
    {
      "cell_type": "code",
      "metadata": {
        "colab": {
          "base_uri": "https://localhost:8080/"
        },
        "id": "YDOHUfT205H6",
        "outputId": "30641470-75f3-4991-ce52-531bf221b59d"
      },
      "source": [
        "vc[0].rs #MOhms"
      ],
      "execution_count": null,
      "outputs": [
        {
          "output_type": "execute_result",
          "data": {
            "text/plain": [
              "1.0"
            ]
          },
          "metadata": {},
          "execution_count": 33
        }
      ]
    },
    {
      "cell_type": "markdown",
      "metadata": {
        "id": "jFO-dx5q6mMy"
      },
      "source": [
        "Does the voltage error correspond to the Rs?\n",
        "(Hint Vm1 = V1 - I1*rs)"
      ]
    },
    {
      "cell_type": "markdown",
      "metadata": {
        "id": "c9SFwrAM617N"
      },
      "source": [
        "How would you expect the Rs to affect the voltage error?\n",
        "\n",
        "Test your prediction by setting new Rs"
      ]
    },
    {
      "cell_type": "code",
      "metadata": {
        "id": "Y5QoR9ed7KC6"
      },
      "source": [
        "soma = mk_soma(20,20)\n",
        "vc= attach_VC(soma, rs=10)\n",
        "run(soma)\n",
        "t_vec, v_vec = run(soma) #outputs time and somatic voltage so can plot \n",
        "plt.figure(figsize=(8,4)) # Default figsize is (8,6)\n",
        "plt.plot(t_vec, vc[1]) #ms nA\n",
        "#you may need to change scale to see"
      ],
      "execution_count": null,
      "outputs": []
    },
    {
      "cell_type": "markdown",
      "metadata": {
        "id": "wQzZKhpa7rt2"
      },
      "source": [
        "How could you determine your Rs from the measurments\n",
        "\n",
        " (hint Rs = Vcmd/I0)"
      ]
    },
    {
      "cell_type": "markdown",
      "metadata": {
        "id": "fh1z223w9FHt"
      },
      "source": [
        "###Rin###\n",
        "How could you determine the cells Rin from the measurements? (hint Rin = I1/Vcmd-Rs)\n",
        "\n",
        "What happens if your cell has a leaky membrane or if you add Cs+ to increase Rin?\n"
      ]
    },
    {
      "cell_type": "markdown",
      "metadata": {
        "id": "hCfa5LksAUwa"
      },
      "source": [
        "Dendrite\n",
        "\n",
        "Attach a dendrite\n",
        "\n",
        "how would you expect a dendrite to affect the voltage-clamp at the soma  \n"
      ]
    },
    {
      "cell_type": "code",
      "metadata": {
        "colab": {
          "base_uri": "https://localhost:8080/",
          "height": 584
        },
        "id": "NisThkAGAvET",
        "outputId": "3e8d11fb-eb36-4306-a34a-ee5e9adb2575"
      },
      "source": [
        "soma = mk_soma(20,20)\n",
        "vc= attach_VC(soma)\n",
        "dend = attach_dend(soma, 200, 3)\n",
        "t_vec, v_vec=run(soma)\n",
        "plt.plot(t_vec, v_vec) #ms mV\n",
        "plt.axis([0, 50, -1, 1])\n",
        "plt.plot(t_vec, vc[1]) #ms nA"
      ],
      "execution_count": null,
      "outputs": [
        {
          "output_type": "stream",
          "text": [
            "20.0\n",
            "Done Running\n"
          ],
          "name": "stdout"
        },
        {
          "output_type": "display_data",
          "data": {
            "image/png": "[encoded data removed]",
            "text/plain": [
              "<Figure size 432x288 with 1 Axes>"
            ]
          },
          "metadata": {
            "needs_background": "light"
          }
        },
        {
          "output_type": "execute_result",
          "data": {
            "text/plain": [
              "[<matplotlib.lines.Line2D at 0x7f1cc08dc050>]"
            ]
          },
          "metadata": {},
          "execution_count": 60
        },
        {
          "output_type": "display_data",
          "data": {
            "image/png": "[encoded data removed]",
            "text/plain": [
              "<Figure size 432x288 with 1 Axes>"
            ]
          },
          "metadata": {
            "needs_background": "light"
          }
        }
      ]
    },
    {
      "cell_type": "markdown",
      "metadata": {
        "id": "8Doi2VC5EtKF"
      },
      "source": [
        "###Space-Clamp###\n",
        "What do you expect to happen to voltage control in the dendrite and Why?\n",
        "\n",
        " before plotting variable against time (t_vec) be sure to have output it from run(stepT) \n",
        "     t_vec, v_vec = run()\n",
        "\n",
        "now you plot against t_vec\n",
        "     plt.plot(t_vec, dend[1]) #plots dendritic voltage\n"
      ]
    },
    {
      "cell_type": "code",
      "metadata": {
        "colab": {
          "base_uri": "https://localhost:8080/",
          "height": 580
        },
        "id": "MH0Tn1cpFAL1",
        "outputId": "15dd0f15-0d28-4257-8d50-75f440307dd5"
      },
      "source": [
        "t_vec, v_vec=run(soma)\n",
        "plt.plot(t_vec, dend[1]) #plots dendritic voltage\n",
        "plt.axis([0, 50, -10, 1])"
      ],
      "execution_count": null,
      "outputs": [
        {
          "output_type": "stream",
          "text": [
            "20.0\n",
            "Done Running\n"
          ],
          "name": "stdout"
        },
        {
          "output_type": "display_data",
          "data": {
            "image/png": "[encoded data removed]",
            "text/plain": [
              "<Figure size 432x288 with 1 Axes>"
            ]
          },
          "metadata": {
            "needs_background": "light"
          }
        },
        {
          "output_type": "execute_result",
          "data": {
            "text/plain": [
              "(0.0, 50.0, -10.0, 1.0)"
            ]
          },
          "metadata": {},
          "execution_count": 64
        },
        {
          "output_type": "display_data",
          "data": {
            "image/png": "[encoded data removed]",
            "text/plain": [
              "<Figure size 432x288 with 1 Axes>"
            ]
          },
          "metadata": {
            "needs_background": "light"
          }
        }
      ]
    },
    {
      "cell_type": "markdown",
      "metadata": {
        "id": "HlrvAo2-VYkq"
      },
      "source": [
        "Try adding my mod files from local site."
      ]
    },
    {
      "cell_type": "code",
      "metadata": {
        "id": "LvBf_-i2S_Yr",
        "colab": {
          "base_uri": "https://localhost:8080/",
          "height": 314
        },
        "outputId": "d77567ff-02d2-422a-a914-eb8d19549bef"
      },
      "source": [
        "h.nrn_load_dll(\"F:\\\\Bonn\\\\other\\\\Teaching\\\\BIGS_Summer_School\\\\2021\\\\model\\\\mod\\\\nrnmech.dll\")\n",
        "soma.insert('hh')\n",
        "run(soma)\n",
        "dir(soma(0.5).hh) # view the variables\n",
        "soma(0.5).hh.el = -80\n",
        "soma.ki = 150 #mM #as default ki is 54 mM for squid axon"
      ],
      "execution_count": null,
      "outputs": [
        {
          "output_type": "stream",
          "text": [
            "20.0\n",
            "Done Running\n"
          ],
          "name": "stdout"
        },
        {
          "output_type": "display_data",
          "data": {
            "image/png": "[encoded data removed]",
            "text/plain": [
              "<Figure size 432x288 with 1 Axes>"
            ]
          },
          "metadata": {
            "needs_background": "light"
          }
        }
      ]
    },
    {
      "cell_type": "markdown",
      "metadata": {
        "id": "uLu39nA3SD4c"
      },
      "source": [
        ""
      ]
    },
    {
      "cell_type": "code",
      "metadata": {
        "id": "VRT2Sp9NPhB4",
        "colab": {
          "base_uri": "https://localhost:8080/",
          "height": 332
        },
        "outputId": "388f210d-79f3-4623-f7e6-fbb5e5073dc4"
      },
      "source": [
        "ic = attach_IC(soma) \n",
        "print(soma(0.5).pas.g)\n",
        "ic.amp = 0.4\n",
        "soma(0.5).pas.g = 0.0001\n",
        "run(soma)\n",
        "ic.amp = 0.1"
      ],
      "execution_count": null,
      "outputs": [
        {
          "output_type": "stream",
          "text": [
            "0.0001\n",
            "20.0\n",
            "Done Running\n"
          ],
          "name": "stdout"
        },
        {
          "output_type": "display_data",
          "data": {
            "image/png": "[encoded data removed]",
            "text/plain": [
              "<Figure size 432x288 with 1 Axes>"
            ]
          },
          "metadata": {
            "needs_background": "light"
          }
        }
      ]
    },
    {
      "cell_type": "code",
      "metadata": {
        "id": "Vm170TcdRiS7",
        "colab": {
          "base_uri": "https://localhost:8080/",
          "height": 334
        },
        "outputId": "28af938f-d1f7-4254-e987-5af048575ae1"
      },
      "source": [
        "dend = attach_dend(soma, 200, 1)\n",
        "run(soma)"
      ],
      "execution_count": null,
      "outputs": [
        {
          "output_type": "stream",
          "text": [
            "20.0\n",
            "Done Running\n"
          ],
          "name": "stdout"
        },
        {
          "output_type": "display_data",
          "data": {
            "image/png": "[encoded data removed]",
            "text/plain": [
              "<Figure size 432x288 with 1 Axes>"
            ]
          },
          "metadata": {
            "tags": [],
            "needs_background": "light"
          }
        },
        {
          "output_type": "execute_result",
          "data": {
            "text/plain": [
              "(Vector[27], Vector[26])"
            ]
          },
          "metadata": {
            "tags": []
          },
          "execution_count": 12
        }
      ]
    }
  ]
}